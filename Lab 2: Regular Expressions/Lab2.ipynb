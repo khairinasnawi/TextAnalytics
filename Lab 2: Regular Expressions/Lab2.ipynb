{
 "cells": [
  {
   "cell_type": "code",
   "execution_count": 1,
   "id": "1ac78add",
   "metadata": {},
   "outputs": [],
   "source": [
    "import re"
   ]
  },
  {
   "cell_type": "code",
   "execution_count": 2,
   "id": "9e3bd3c3",
   "metadata": {},
   "outputs": [
    {
     "name": "stdout",
     "output_type": "stream",
     "text": [
      "<re.Match object; span=(0, 1), match='I'>\n"
     ]
    }
   ],
   "source": [
    "#using re.match \n",
    "#to find the first occurrence of the letter 'I' in the string \n",
    " \n",
    "sentence1 = re.match (r'I', 'I am learning text analytics') \n",
    "print (sentence1) "
   ]
  },
  {
   "cell_type": "code",
   "execution_count": 3,
   "id": "3e5f9861",
   "metadata": {},
   "outputs": [
    {
     "name": "stdout",
     "output_type": "stream",
     "text": [
      "None\n"
     ]
    }
   ],
   "source": [
    "#using re.match \n",
    "#to find the first occurrence of the letter 'v' in the string \n",
    " \n",
    "sentence2 = re.match (r'v', 'I am learning text analytics') \n",
    "print (sentence2) \n"
   ]
  },
  {
   "cell_type": "code",
   "execution_count": 4,
   "id": "91b86d3a",
   "metadata": {},
   "outputs": [
    {
     "name": "stdout",
     "output_type": "stream",
     "text": [
      "None\n"
     ]
    }
   ],
   "source": [
    "#using re.match \n",
    "#to find the first occurrence of the letter 'am' in the string \n",
    " \n",
    "sentence3 = re.match (r'am', 'I am learning text analytics') \n",
    "print (sentence3) "
   ]
  },
  {
   "cell_type": "code",
   "execution_count": 5,
   "id": "6f992f56",
   "metadata": {},
   "outputs": [
    {
     "name": "stdout",
     "output_type": "stream",
     "text": [
      "<re.Match object; span=(2, 4), match='am'>\n"
     ]
    }
   ],
   "source": [
    "sentence4 = re.search(r'am', 'I am learning text analytics')  \n",
    "print (sentence4)  "
   ]
  },
  {
   "cell_type": "code",
   "execution_count": 6,
   "id": "98d97d9c",
   "metadata": {},
   "outputs": [
    {
     "name": "stdout",
     "output_type": "stream",
     "text": [
      "<re.Match object; span=(2, 4), match='am'>\n"
     ]
    }
   ],
   "source": [
    "sentence5 = re.search(r'am', 'I am learning text analytics and am enjoying it')  \n",
    "print (sentence5)  "
   ]
  },
  {
   "cell_type": "code",
   "execution_count": 7,
   "id": "5fbc31e2",
   "metadata": {},
   "outputs": [
    {
     "name": "stdout",
     "output_type": "stream",
     "text": [
      "['am', 'am']\n"
     ]
    }
   ],
   "source": [
    "sentence6 = re.findall(r'am', 'I am learning text analytics and am enjoying it')  \n",
    "print (sentence6)  "
   ]
  },
  {
   "cell_type": "code",
   "execution_count": 8,
   "id": "16819aa7",
   "metadata": {},
   "outputs": [
    {
     "name": "stdout",
     "output_type": "stream",
     "text": [
      "['I am learning text analytics ', ' am enjoying it']\n"
     ]
    }
   ],
   "source": [
    "sentence7 = re.split(r'and', 'I am learning text analytics and am enjoying it')  \n",
    "print (sentence7)"
   ]
  },
  {
   "cell_type": "code",
   "execution_count": 9,
   "id": "5d9282f7",
   "metadata": {},
   "outputs": [
    {
     "name": "stdout",
     "output_type": "stream",
     "text": [
      "['I ', ' learning text analytics and ', ' enjoying it']\n"
     ]
    }
   ],
   "source": [
    "sentence8 = re.split(r'am', 'I am learning text analytics and am enjoying it')  \n",
    "print (sentence8)"
   ]
  },
  {
   "cell_type": "code",
   "execution_count": 10,
   "id": "ce82f2ac",
   "metadata": {},
   "outputs": [
    {
     "name": "stdout",
     "output_type": "stream",
     "text": [
      "['I ', ' learning text analytics and am enjoying it']\n"
     ]
    }
   ],
   "source": [
    "sentence9 = re.split(r'am', 'I am learning text analytics and am enjoying it', maxsplit=1) \n",
    "print (sentence9)"
   ]
  },
  {
   "cell_type": "code",
   "execution_count": 11,
   "id": "fb35c607",
   "metadata": {},
   "outputs": [
    {
     "name": "stdout",
     "output_type": "stream",
     "text": [
      "['I ', ' learning text analytics and ', ' enjoying it']\n"
     ]
    }
   ],
   "source": [
    "sentence9 = re.split(r'am', 'I am learning text analytics and am enjoying it', maxsplit=2) \n",
    "print (sentence9)"
   ]
  },
  {
   "cell_type": "code",
   "execution_count": 12,
   "id": "c038ce98",
   "metadata": {},
   "outputs": [
    {
     "name": "stdout",
     "output_type": "stream",
     "text": [
      "['I ', ' learning text analytics, I ', ' enjoying it and I ', ' going to ace it']\n"
     ]
    }
   ],
   "source": [
    "sentence10 = re.split(r'am', 'I am learning text analytics, I am enjoying it and I am going to ace it', maxsplit=3) \n",
    "print (sentence10)"
   ]
  },
  {
   "cell_type": "code",
   "execution_count": 13,
   "id": "f9b23923",
   "metadata": {},
   "outputs": [
    {
     "name": "stdout",
     "output_type": "stream",
     "text": [
      "we like text analytics and we enjoy learning it\n"
     ]
    }
   ],
   "source": [
    "sentence11 = re.sub(r'I', 'we', 'I like text analytics and I enjoy learning it') \n",
    "print (sentence11)"
   ]
  },
  {
   "cell_type": "code",
   "execution_count": 14,
   "id": "3a497a4d",
   "metadata": {},
   "outputs": [
    {
     "name": "stdout",
     "output_type": "stream",
     "text": [
      "['I', ' ', 'a', 'm', ' ', 'l', 'e', 'a', 'r', 'n', 'i', 'n', 'g', ' ', 't', 'e', 'x', 't', ' ', 'a', 'n', 'a', 'l', 'y', 't', 'i', 'c', 's']\n"
     ]
    }
   ],
   "source": [
    "sentence1 = re.findall (r'.', 'I am learning text analytics') \n",
    "print (sentence1) \n",
    " \n",
    "# Each letter is selected including spaces "
   ]
  },
  {
   "cell_type": "code",
   "execution_count": 16,
   "id": "37ddf782",
   "metadata": {},
   "outputs": [
    {
     "name": "stdout",
     "output_type": "stream",
     "text": [
      "['I', 'a', 'm', 'l', 'e', 'a', 'r', 'n', 'i', 'n', 'g', 't', 'e', 'x', 't', 'a', 'n', 'a', 'l', 'y', 't', 'i', 'c', 's']\n"
     ]
    }
   ],
   "source": [
    "sentence2 = re.findall (r'\\w', 'I am learning text analytics') \n",
    "print (sentence2) \n",
    " \n",
    "# Each letter is selected excluding spaces "
   ]
  },
  {
   "cell_type": "code",
   "execution_count": 17,
   "id": "64319352",
   "metadata": {},
   "outputs": [
    {
     "name": "stdout",
     "output_type": "stream",
     "text": [
      "['I', '', 'am', '', 'learning', '', 'text', '', 'analytics', '']\n"
     ]
    }
   ],
   "source": [
    "sentence3 = re.findall (r'\\w*', 'I am learning text analytics') \n",
    "print (sentence3) \n",
    " \n",
    "# Each word is selected including spaces "
   ]
  },
  {
   "cell_type": "code",
   "execution_count": 18,
   "id": "0f7afd38",
   "metadata": {},
   "outputs": [
    {
     "name": "stdout",
     "output_type": "stream",
     "text": [
      "['I', 'am', 'learning', 'text', 'analytics']\n"
     ]
    }
   ],
   "source": [
    "sentence4 = re.findall (r'\\w+', 'I am learning text analytics') \n",
    "print (sentence4) \n",
    " \n",
    "# Each word is selected excluding spaces "
   ]
  },
  {
   "cell_type": "code",
   "execution_count": 19,
   "id": "aa7ad3ad",
   "metadata": {},
   "outputs": [
    {
     "name": "stdout",
     "output_type": "stream",
     "text": [
      "['I']\n"
     ]
    }
   ],
   "source": [
    "sentence5 = re.findall (r'^\\w+', 'I am learning text analytics') \n",
    "print (sentence5) \n",
    " \n",
    "# First word is selected "
   ]
  },
  {
   "cell_type": "code",
   "execution_count": 20,
   "id": "839ec40b",
   "metadata": {},
   "outputs": [
    {
     "name": "stdout",
     "output_type": "stream",
     "text": [
      "['analytics']\n"
     ]
    }
   ],
   "source": [
    "sentence6 = re.findall (r'\\w+$', 'I am learning text analytics') \n",
    "print (sentence6) \n",
    " \n",
    "# Last word is selected  "
   ]
  },
  {
   "cell_type": "code",
   "execution_count": 21,
   "id": "84385f4b",
   "metadata": {},
   "outputs": [
    {
     "name": "stdout",
     "output_type": "stream",
     "text": [
      "['am', 'le', 'ar', 'ni', 'ng', 'te', 'xt', 'an', 'al', 'yt', 'ic']\n"
     ]
    }
   ],
   "source": [
    "sentence7 = re.findall (r'\\w\\w', 'I am learning text analytics') \n",
    "print (sentence7) \n",
    " \n",
    "# 2 consecutive characters are selected "
   ]
  },
  {
   "cell_type": "code",
   "execution_count": 22,
   "id": "1aa0dfd6",
   "metadata": {},
   "outputs": [
    {
     "name": "stdout",
     "output_type": "stream",
     "text": [
      "['am', 'le', 'te', 'an']\n"
     ]
    }
   ],
   "source": [
    "sentence8 = re.findall (r'\\b\\w\\w', 'I am learning text analytics') \n",
    "print (sentence8) \n",
    " \n",
    "# 2 consecutive characters in each word are selected "
   ]
  },
  {
   "cell_type": "code",
   "execution_count": 23,
   "id": "0010f402",
   "metadata": {},
   "outputs": [
    {
     "name": "stdout",
     "output_type": "stream",
     "text": [
      "['@text', '@analytics', '@textanalytics']\n"
     ]
    }
   ],
   "source": [
    "sentence9 = re.findall (r'@\\w+', 'user@text.com.my, user@analytics.gov.my, user@textanalytics.edu.my')\n",
    "print (sentence9) \n",
    " \n",
    "# Only the first word in the domain name is selected "
   ]
  },
  {
   "cell_type": "code",
   "execution_count": 24,
   "id": "a3ac3a6e",
   "metadata": {},
   "outputs": [
    {
     "name": "stdout",
     "output_type": "stream",
     "text": [
      "['@text.com', '@analytics.gov', '@textanalytics.edu']\n"
     ]
    }
   ],
   "source": [
    "sentence10 = re.findall (r'@\\w+.\\w+','user@text.com.my, user@analytics.gov.my, user@textanalytics.edu.my')\n",
    "print (sentence10)"
   ]
  },
  {
   "cell_type": "code",
   "execution_count": 25,
   "id": "8aaf2949",
   "metadata": {},
   "outputs": [
    {
     "name": "stdout",
     "output_type": "stream",
     "text": [
      "['@text.com.my', '@analytics.gov.my', '@textanalytics.edu.my']\n"
     ]
    }
   ],
   "source": [
    "sentence11 = re.findall (r'@\\w+.\\w+.\\w+', 'user@text.com.my, user@analytics.gov.my, user@textanalytics.edu.my')\n",
    "print (sentence11) \n",
    " \n",
    "# The full domain name is selected "
   ]
  },
  {
   "cell_type": "code",
   "execution_count": 27,
   "id": "51713412",
   "metadata": {},
   "outputs": [
    {
     "name": "stdout",
     "output_type": "stream",
     "text": [
      "['com.my', 'gov.my', 'edu.my']\n"
     ]
    }
   ],
   "source": [
    "sentence12 = re.findall (r'@\\w+.(\\w+.\\w+)', 'user@text.com.my, user@analytics.gov.my, user@textanalytics.edu.my')\n",
    "print (sentence12) \n",
    " \n",
    "# To display the type of domain "
   ]
  },
  {
   "cell_type": "code",
   "execution_count": 28,
   "id": "f7c6c488",
   "metadata": {},
   "outputs": [
    {
     "name": "stdout",
     "output_type": "stream",
     "text": [
      "['15-05-20', '20-08-20']\n"
     ]
    }
   ],
   "source": [
    "sentence13 = re.findall (r'\\d{2}-\\d{2}-\\d{2}', 'Ahmad BIT(IS) 15-05-2001, Johnny BCS(SE) 20-08-2000')\n",
    "print (sentence13) \n",
    " \n",
    "# To display the date in the format of dd-mm-yy "
   ]
  },
  {
   "cell_type": "code",
   "execution_count": 29,
   "id": "6d028ba9",
   "metadata": {},
   "outputs": [
    {
     "name": "stdout",
     "output_type": "stream",
     "text": [
      "['15-05-2001', '20-08-2000']\n"
     ]
    }
   ],
   "source": [
    "sentence14 = re.findall (r'\\d{2}-\\d{2}-\\d{4}', 'Ahmad BIT(IS) 15-05-2001, Johnny BCS(SE) 20-08-2000')\n",
    "print (sentence14) \n",
    " \n",
    "# To display the date in the format of dd-mm-yyyy "
   ]
  },
  {
   "cell_type": "code",
   "execution_count": 30,
   "id": "de1ede19",
   "metadata": {},
   "outputs": [
    {
     "name": "stdout",
     "output_type": "stream",
     "text": [
      "['2001', '2000']\n"
     ]
    }
   ],
   "source": [
    "sentence15 = re.findall (r'\\d{2}-\\d{2}-(\\d{4})', 'Ahmad BIT(IS) 15-05-2001, Johnny BCS(SE) 20-08-2000')\n",
    "print (sentence15) \n",
    " \n",
    "# Only the year will be displayed "
   ]
  },
  {
   "cell_type": "code",
   "execution_count": 31,
   "id": "e293c5ec",
   "metadata": {},
   "outputs": [
    {
     "name": "stdout",
     "output_type": "stream",
     "text": [
      "['ave', 'eight', 'ory', 'ooks', 'often', 'ead', 'em', 'in', 'afternoon']\n"
     ]
    }
   ],
   "source": [
    "sentence16 = re.findall (r'[aeiouAEIOU]\\w+', 'I have eight story books. I often read them in afternoon')\n",
    "print (sentence16)\n",
    " \n",
    "# A sequence that starts with a vowel followed by one o rmore characters are selected \t\n"
   ]
  },
  {
   "cell_type": "code",
   "execution_count": 32,
   "id": "bae629bb",
   "metadata": {},
   "outputs": [
    {
     "name": "stdout",
     "output_type": "stream",
     "text": [
      "['eight', 'often', 'in', 'afternoon']\n"
     ]
    }
   ],
   "source": [
    "sentence17 = re.findall (r'\\b[aeiouAEIOU]\\w+', 'I have eight story books. I often read them in afternoon')\n",
    "print (sentence17) \n",
    " \n",
    "# Only words that start with vowels are selected "
   ]
  },
  {
   "cell_type": "code",
   "execution_count": 33,
   "id": "8d0b3eec",
   "metadata": {},
   "outputs": [
    {
     "name": "stdout",
     "output_type": "stream",
     "text": [
      "['have', 'story', 'books', 'read', 'them']\n"
     ]
    }
   ],
   "source": [
    "sentence18 = re.findall (r'\\b[^aeiouAEIOU\\s]\\w+', 'I have eight story books. I often read them in afternoon')\n",
    "print (sentence18) \n",
    " \n",
    "# Only words that start with non-vowels are selected "
   ]
  },
  {
   "cell_type": "code",
   "execution_count": 34,
   "id": "5fe998af",
   "metadata": {},
   "outputs": [
    {
     "name": "stdout",
     "output_type": "stream",
     "text": [
      "['I have many story books', ' colouring books', ' I often read them in the afternoon.']\n"
     ]
    }
   ],
   "source": [
    "sentence19 = re.split (r'[;,]', 'I have many story books, colouring books; I often read them in the afternoon.')\n",
    "print (sentence19) \n",
    " \n",
    "# split the words based on the delimiters semi colon and comma "
   ]
  },
  {
   "cell_type": "code",
   "execution_count": 35,
   "id": "865c01f5",
   "metadata": {},
   "outputs": [
    {
     "name": "stdout",
     "output_type": "stream",
     "text": [
      "['I', 'have', 'many', 'story', 'books', '', 'colouring', 'books', '', 'I', 'often', 'read', 'them', 'in', 'the', 'afternoon.']\n"
     ]
    }
   ],
   "source": [
    "sentence20 = re.split (r'[;,\\s]', 'I have many story books, colouring books; I often read them in the afternoon.')\n",
    "print (sentence20) \n",
    " \n",
    "# split the words based on the delimiters semi colon, comma and space "
   ]
  },
  {
   "cell_type": "code",
   "execution_count": 36,
   "id": "bc68412d",
   "metadata": {},
   "outputs": [
    {
     "name": "stdout",
     "output_type": "stream",
     "text": [
      "I have many story books. colouring books. I often read them in the afternoon.\n"
     ]
    }
   ],
   "source": [
    "sentence21 = re.sub (r'[;,]', '.', 'I have many story books, colouring books; I often read them in the afternoon.')\n",
    "print (sentence21) \n",
    " \n",
    "# Substitute the delimiters semi colon and comma with fullstop "
   ]
  },
  {
   "cell_type": "code",
   "execution_count": null,
   "id": "d6c39d8e",
   "metadata": {},
   "outputs": [],
   "source": []
  }
 ],
 "metadata": {
  "kernelspec": {
   "display_name": "Python 3 (ipykernel)",
   "language": "python",
   "name": "python3"
  },
  "language_info": {
   "codemirror_mode": {
    "name": "ipython",
    "version": 3
   },
   "file_extension": ".py",
   "mimetype": "text/x-python",
   "name": "python",
   "nbconvert_exporter": "python",
   "pygments_lexer": "ipython3",
   "version": "3.11.5"
  }
 },
 "nbformat": 4,
 "nbformat_minor": 5
}
